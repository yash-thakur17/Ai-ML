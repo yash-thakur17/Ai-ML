{
 "cells": [
  {
   "cell_type": "code",
   "execution_count": null,
   "id": "932731a0",
   "metadata": {},
   "outputs": [],
   "source": [
    "import matplotlib.pyplot as plt\n",
    "import pandas as pd\n",
    "\n",
    "Student_Less_number = int(input(\"Enter a number to be a check a biggest number: \"))\n",
    "\n",
    "student_marks = pd.read_csv('Student.csv', nrows=10)\n",
    "\n",
    "Pass_Student = student_marks['Result'] == 1\n",
    "Pass_Count = Pass_Student.sum()\n",
    "\n",
    "Fail_Student = student_marks['Result'] == 0\n",
    "Fail_Count = Fail_Student.sum()\n",
    "\n",
    "label = [\"Pass\",\"Fail\"]\n",
    "values = [Pass_Count,Fail_Count]\n",
    "\n",
    "plt.figure(figsize=(12,6))\n",
    "plt.subplots_adjust(hspace=0.4, wspace=0.4)\n",
    "\n",
    "plt.subplot(2,1,1)\n",
    "plt.plot(student_marks['Student_id'], student_marks['Maths'], label='Maths', color='pink', marker='o')\n",
    "plt.plot(student_marks['Student_id'], student_marks['Physics'], label='Physics', color='blue', marker='s')\n",
    "plt.plot(student_marks['Student_id'], student_marks['Chemistry'], label='Chemistry', color='cyan', marker='^')\n",
    "plt.title('Student result')\n",
    "plt.xlabel('Studnet ID')\n",
    "plt.ylabel('Marks Index')\n",
    "plt.legend()\n",
    "plt.grid()\n",
    "\n",
    "plt.subplot(2,1,2)\n",
    "plt.pie(values,labels=label, colors=['green', 'red'], autopct='%1.1f%%',startangle=90)\n",
    "plt.title('Pass vs Fail Students')\n",
    "plt.legend()\n",
    "plt.grid()\n",
    "\n",
    "# bar and scatter is remeaing \n",
    "\n",
    "Student_number = student_marks['Maths'][student_marks['Maths'] > Student_Less_number]\n",
    "print((f\"The Number of {Student_Less_number} less in maths :\\n\"),Student_number)\n",
    "\n",
    "Student_number = student_marks['Physics'][student_marks['Physics'] > Student_Less_number]\n",
    "print((f\"\\nThe Number of {Student_Less_number} less in physics:\\n\"),Student_number)\n",
    "\n",
    "Student_number = student_marks['Chemistry'][student_marks['Chemistry'] > Student_Less_number]\n",
    "print((f\"\\nThe Number of {Student_Less_number} less in chemistry:\\n\"),Student_number)\n",
    "\n",
    "avg_marks = student_marks[['Maths', 'Physics', 'Chemistry']].mean()\n",
    "print((\"\\nThe mean of 'Maths' 'Physics' 'Chemistry': \\n\"),avg_marks)\n",
    "\n",
    "student_marks['Normallize_revice'] = student_marks[\"Marks\"] / student_marks[\"Marks\"].max()\n",
    "print((\"\\nThe Max of normallization marks: \"),student_marks['Normallize_revice'].max())\n",
    "\n",
    "plt.show()\n",
    "student_marks.head(10)"
   ]
  }
 ],
 "metadata": {
  "kernelspec": {
   "display_name": "Python 3",
   "language": "python",
   "name": "python3"
  },
  "language_info": {
   "codemirror_mode": {
    "name": "ipython",
    "version": 3
   },
   "file_extension": ".py",
   "mimetype": "text/x-python",
   "name": "python",
   "nbconvert_exporter": "python",
   "pygments_lexer": "ipython3",
   "version": "3.12.4"
  }
 },
 "nbformat": 4,
 "nbformat_minor": 5
}
